{
 "cells": [
  {
   "cell_type": "code",
   "execution_count": 3,
   "metadata": {},
   "outputs": [],
   "source": [
    "import pandas as pd\n",
    "import numpy as np\n",
    "import matplotlib.pyplot as plt\n",
    "import seaborn as sns\n",
    "\n",
    "from sklearn.model_selection import train_test_split, cross_val_score, GridSearchCV\n",
    "\n",
    "from sklearn import metrics\n",
    "from sklearn.ensemble import RandomForestClassifier\n",
    "\n",
    "pd.options.display.max_columns = None"
   ]
  },
  {
   "cell_type": "code",
   "execution_count": 4,
   "metadata": {},
   "outputs": [],
   "source": [
    "def data_cleaning(df):\n",
    "    #Making a copy of the dataset\n",
    "    df = df.copy()\n",
    "\n",
    "    #Using CustomerID as index\n",
    "    df.set_index(\"CustomerID\", inplace=True)\n",
    "\n",
    "    #Fixing Total Charges column - inserting zeroes for blank columns and casting to float\n",
    "    df[\"Total Charges\"] = df[\"Total Charges\"].str.replace(\" \", \"0\")\n",
    "    df = df.astype({\"Total Charges\": float})\n",
    "\n",
    "    #Dropping unnecessary columns\n",
    "    df.drop(columns=[\"Count\", \"Country\", \"State\", \"City\", \"Zip Code\", \"Lat Long\", \"Churn Label\", \"Churn Reason\"], inplace=True)\n",
    "\n",
    "    #Mapping columns to numeric values\n",
    "    #General case, where values are \"yes\" and \"no\". Results like \"no phone service\" are mapped to 0 since the lack of phone service is contained in a different column\n",
    "    general_mapper = {\"No\":0, \"Yes\":1, \"No phone service\": 0, \"No internet service\": 0}\n",
    "    for col in df.columns:\n",
    "        if \"No\" in df[col].unique() and \"Yes\" in df[col].unique():\n",
    "            df[col] = df[col].map(general_mapper)\n",
    "    \n",
    "    #Mapping male to 0 and female to 1\n",
    "    gender_mapper = {\"Male\":0, \"Female\":1}\n",
    "    df[\"Gender\"] = df[\"Gender\"].map(gender_mapper)\n",
    "\n",
    "    #Mapping contract lengths into a value representing the length of the contract term in years\n",
    "    contract_mapper = {\"Month-to-month\": 1/12, \"Two year\": 2, \"One year\":1}\n",
    "    df[\"Contract\"] = df[\"Contract\"].map(contract_mapper)\n",
    "\n",
    "    return df"
   ]
  },
  {
   "cell_type": "code",
   "execution_count": 7,
   "metadata": {},
   "outputs": [],
   "source": [
    "df = pd.read_csv(\"../swan_data.csv\")"
   ]
  },
  {
   "cell_type": "code",
   "execution_count": 9,
   "metadata": {},
   "outputs": [],
   "source": [
    "df = data_cleaning(df)"
   ]
  },
  {
   "cell_type": "code",
   "execution_count": 14,
   "metadata": {},
   "outputs": [],
   "source": [
    "def feature_engineering(df):\n",
    "    # OHE Payment Method and Internet Service columns\n",
    "    df = pd.get_dummies(df, \n",
    "                        columns = ['Payment Method', 'Internet Service'], \n",
    "                        prefix = ['pay','is'], \n",
    "                        drop_first = True, \n",
    "                        dtype = int)\n",
    "        \n",
    "    return df"
   ]
  },
  {
   "cell_type": "code",
   "execution_count": 15,
   "metadata": {},
   "outputs": [],
   "source": [
    "df = feature_engineering(df)"
   ]
  },
  {
   "cell_type": "code",
   "execution_count": 16,
   "metadata": {},
   "outputs": [],
   "source": [
    "features = ['Gender', 'Senior Citizen', 'Partner',\n",
    "       'Dependents', 'Tenure Months', 'Phone Service', 'Multiple Lines',\n",
    "       'Online Security', 'Online Backup', 'Device Protection', 'Tech Support',\n",
    "       'Streaming TV', 'Streaming Movies', 'Contract', 'Paperless Billing',\n",
    "       'Monthly Charges', 'Total Charges',\n",
    "       'pay_Credit card (automatic)', 'pay_Electronic check',\n",
    "       'pay_Mailed check', 'is_Fiber optic', 'is_No']"
   ]
  },
  {
   "cell_type": "code",
   "execution_count": 17,
   "metadata": {},
   "outputs": [],
   "source": [
    "X = df[features]\n",
    "y = df[\"Churn Value\"]"
   ]
  },
  {
   "cell_type": "code",
   "execution_count": 18,
   "metadata": {},
   "outputs": [],
   "source": [
    "X_train, X_test, y_train, y_test = train_test_split(X, y, test_size = 0.2, random_state = 1)"
   ]
  },
  {
   "cell_type": "code",
   "execution_count": 19,
   "metadata": {},
   "outputs": [],
   "source": [
    "clf = RandomForestClassifier()"
   ]
  },
  {
   "cell_type": "code",
   "execution_count": 20,
   "metadata": {},
   "outputs": [],
   "source": [
    "rf_params = {\n",
    "    'class_weight':['balanced'],\n",
    "    'criterion':['entropy'],\n",
    "    'n_estimators': [100, 150, 200],\n",
    "    'max_depth': [6, 8, 10, 12],\n",
    "}\n",
    "\n",
    "gs = GridSearchCV(clf, param_grid=rf_params, cv=5, verbose=3, scoring='recall')"
   ]
  },
  {
   "cell_type": "code",
   "execution_count": 21,
   "metadata": {},
   "outputs": [
    {
     "name": "stdout",
     "output_type": "stream",
     "text": [
      "Fitting 5 folds for each of 12 candidates, totalling 60 fits\n"
     ]
    },
    {
     "name": "stdout",
     "output_type": "stream",
     "text": [
      "[CV 1/5] END class_weight=balanced, criterion=entropy, max_depth=6, n_estimators=100;, score=0.750 total time=   0.5s\n",
      "[CV 2/5] END class_weight=balanced, criterion=entropy, max_depth=6, n_estimators=100;, score=0.809 total time=   0.6s\n",
      "[CV 3/5] END class_weight=balanced, criterion=entropy, max_depth=6, n_estimators=100;, score=0.766 total time=   0.6s\n",
      "[CV 4/5] END class_weight=balanced, criterion=entropy, max_depth=6, n_estimators=100;, score=0.832 total time=   0.7s\n",
      "[CV 5/5] END class_weight=balanced, criterion=entropy, max_depth=6, n_estimators=100;, score=0.818 total time=   0.9s\n",
      "[CV 1/5] END class_weight=balanced, criterion=entropy, max_depth=6, n_estimators=150;, score=0.743 total time=   1.5s\n",
      "[CV 2/5] END class_weight=balanced, criterion=entropy, max_depth=6, n_estimators=150;, score=0.822 total time=   1.5s\n",
      "[CV 3/5] END class_weight=balanced, criterion=entropy, max_depth=6, n_estimators=150;, score=0.763 total time=   1.4s\n",
      "[CV 4/5] END class_weight=balanced, criterion=entropy, max_depth=6, n_estimators=150;, score=0.836 total time=   1.1s\n",
      "[CV 5/5] END class_weight=balanced, criterion=entropy, max_depth=6, n_estimators=150;, score=0.825 total time=   1.0s\n",
      "[CV 1/5] END class_weight=balanced, criterion=entropy, max_depth=6, n_estimators=200;, score=0.743 total time=   1.6s\n",
      "[CV 2/5] END class_weight=balanced, criterion=entropy, max_depth=6, n_estimators=200;, score=0.816 total time=   1.4s\n",
      "[CV 3/5] END class_weight=balanced, criterion=entropy, max_depth=6, n_estimators=200;, score=0.780 total time=   1.4s\n",
      "[CV 4/5] END class_weight=balanced, criterion=entropy, max_depth=6, n_estimators=200;, score=0.845 total time=   1.6s\n",
      "[CV 5/5] END class_weight=balanced, criterion=entropy, max_depth=6, n_estimators=200;, score=0.825 total time=   1.6s\n",
      "[CV 1/5] END class_weight=balanced, criterion=entropy, max_depth=8, n_estimators=100;, score=0.714 total time=   0.9s\n",
      "[CV 2/5] END class_weight=balanced, criterion=entropy, max_depth=8, n_estimators=100;, score=0.803 total time=   1.1s\n",
      "[CV 3/5] END class_weight=balanced, criterion=entropy, max_depth=8, n_estimators=100;, score=0.737 total time=   1.0s\n",
      "[CV 4/5] END class_weight=balanced, criterion=entropy, max_depth=8, n_estimators=100;, score=0.812 total time=   1.2s\n",
      "[CV 5/5] END class_weight=balanced, criterion=entropy, max_depth=8, n_estimators=100;, score=0.809 total time=   1.0s\n",
      "[CV 1/5] END class_weight=balanced, criterion=entropy, max_depth=8, n_estimators=150;, score=0.717 total time=   1.2s\n",
      "[CV 2/5] END class_weight=balanced, criterion=entropy, max_depth=8, n_estimators=150;, score=0.789 total time=   1.7s\n",
      "[CV 3/5] END class_weight=balanced, criterion=entropy, max_depth=8, n_estimators=150;, score=0.750 total time=   3.4s\n",
      "[CV 4/5] END class_weight=balanced, criterion=entropy, max_depth=8, n_estimators=150;, score=0.809 total time=   2.1s\n",
      "[CV 5/5] END class_weight=balanced, criterion=entropy, max_depth=8, n_estimators=150;, score=0.799 total time=   2.2s\n",
      "[CV 1/5] END class_weight=balanced, criterion=entropy, max_depth=8, n_estimators=200;, score=0.720 total time=   2.5s\n",
      "[CV 2/5] END class_weight=balanced, criterion=entropy, max_depth=8, n_estimators=200;, score=0.789 total time=   2.2s\n",
      "[CV 3/5] END class_weight=balanced, criterion=entropy, max_depth=8, n_estimators=200;, score=0.747 total time=   1.7s\n",
      "[CV 4/5] END class_weight=balanced, criterion=entropy, max_depth=8, n_estimators=200;, score=0.812 total time=   1.8s\n",
      "[CV 5/5] END class_weight=balanced, criterion=entropy, max_depth=8, n_estimators=200;, score=0.792 total time=   1.7s\n",
      "[CV 1/5] END class_weight=balanced, criterion=entropy, max_depth=10, n_estimators=100;, score=0.694 total time=   0.9s\n",
      "[CV 2/5] END class_weight=balanced, criterion=entropy, max_depth=10, n_estimators=100;, score=0.740 total time=   0.9s\n",
      "[CV 3/5] END class_weight=balanced, criterion=entropy, max_depth=10, n_estimators=100;, score=0.704 total time=   1.1s\n",
      "[CV 4/5] END class_weight=balanced, criterion=entropy, max_depth=10, n_estimators=100;, score=0.786 total time=   1.0s\n",
      "[CV 5/5] END class_weight=balanced, criterion=entropy, max_depth=10, n_estimators=100;, score=0.746 total time=   1.0s\n",
      "[CV 1/5] END class_weight=balanced, criterion=entropy, max_depth=10, n_estimators=150;, score=0.691 total time=   2.1s\n",
      "[CV 2/5] END class_weight=balanced, criterion=entropy, max_depth=10, n_estimators=150;, score=0.757 total time=   1.9s\n",
      "[CV 3/5] END class_weight=balanced, criterion=entropy, max_depth=10, n_estimators=150;, score=0.681 total time=   1.7s\n",
      "[CV 4/5] END class_weight=balanced, criterion=entropy, max_depth=10, n_estimators=150;, score=0.780 total time=   1.5s\n",
      "[CV 5/5] END class_weight=balanced, criterion=entropy, max_depth=10, n_estimators=150;, score=0.746 total time=   1.5s\n",
      "[CV 1/5] END class_weight=balanced, criterion=entropy, max_depth=10, n_estimators=200;, score=0.681 total time=   2.0s\n",
      "[CV 2/5] END class_weight=balanced, criterion=entropy, max_depth=10, n_estimators=200;, score=0.750 total time=   1.9s\n",
      "[CV 3/5] END class_weight=balanced, criterion=entropy, max_depth=10, n_estimators=200;, score=0.684 total time=   2.0s\n",
      "[CV 4/5] END class_weight=balanced, criterion=entropy, max_depth=10, n_estimators=200;, score=0.783 total time=   2.6s\n",
      "[CV 5/5] END class_weight=balanced, criterion=entropy, max_depth=10, n_estimators=200;, score=0.746 total time=   2.4s\n",
      "[CV 1/5] END class_weight=balanced, criterion=entropy, max_depth=12, n_estimators=100;, score=0.638 total time=   1.1s\n",
      "[CV 2/5] END class_weight=balanced, criterion=entropy, max_depth=12, n_estimators=100;, score=0.697 total time=   1.1s\n",
      "[CV 3/5] END class_weight=balanced, criterion=entropy, max_depth=12, n_estimators=100;, score=0.658 total time=   1.1s\n",
      "[CV 4/5] END class_weight=balanced, criterion=entropy, max_depth=12, n_estimators=100;, score=0.704 total time=   1.2s\n",
      "[CV 5/5] END class_weight=balanced, criterion=entropy, max_depth=12, n_estimators=100;, score=0.686 total time=   1.1s\n",
      "[CV 1/5] END class_weight=balanced, criterion=entropy, max_depth=12, n_estimators=150;, score=0.635 total time=   2.1s\n",
      "[CV 2/5] END class_weight=balanced, criterion=entropy, max_depth=12, n_estimators=150;, score=0.711 total time=   2.1s\n",
      "[CV 3/5] END class_weight=balanced, criterion=entropy, max_depth=12, n_estimators=150;, score=0.658 total time=   2.1s\n",
      "[CV 4/5] END class_weight=balanced, criterion=entropy, max_depth=12, n_estimators=150;, score=0.720 total time=   2.4s\n",
      "[CV 5/5] END class_weight=balanced, criterion=entropy, max_depth=12, n_estimators=150;, score=0.700 total time=   2.0s\n",
      "[CV 1/5] END class_weight=balanced, criterion=entropy, max_depth=12, n_estimators=200;, score=0.638 total time=   2.2s\n",
      "[CV 2/5] END class_weight=balanced, criterion=entropy, max_depth=12, n_estimators=200;, score=0.691 total time=   2.3s\n",
      "[CV 3/5] END class_weight=balanced, criterion=entropy, max_depth=12, n_estimators=200;, score=0.648 total time=   2.2s\n",
      "[CV 4/5] END class_weight=balanced, criterion=entropy, max_depth=12, n_estimators=200;, score=0.714 total time=   2.3s\n",
      "[CV 5/5] END class_weight=balanced, criterion=entropy, max_depth=12, n_estimators=200;, score=0.696 total time=   2.9s\n"
     ]
    },
    {
     "data": {
      "text/html": [
       "<style>#sk-container-id-1 {color: black;background-color: white;}#sk-container-id-1 pre{padding: 0;}#sk-container-id-1 div.sk-toggleable {background-color: white;}#sk-container-id-1 label.sk-toggleable__label {cursor: pointer;display: block;width: 100%;margin-bottom: 0;padding: 0.3em;box-sizing: border-box;text-align: center;}#sk-container-id-1 label.sk-toggleable__label-arrow:before {content: \"▸\";float: left;margin-right: 0.25em;color: #696969;}#sk-container-id-1 label.sk-toggleable__label-arrow:hover:before {color: black;}#sk-container-id-1 div.sk-estimator:hover label.sk-toggleable__label-arrow:before {color: black;}#sk-container-id-1 div.sk-toggleable__content {max-height: 0;max-width: 0;overflow: hidden;text-align: left;background-color: #f0f8ff;}#sk-container-id-1 div.sk-toggleable__content pre {margin: 0.2em;color: black;border-radius: 0.25em;background-color: #f0f8ff;}#sk-container-id-1 input.sk-toggleable__control:checked~div.sk-toggleable__content {max-height: 200px;max-width: 100%;overflow: auto;}#sk-container-id-1 input.sk-toggleable__control:checked~label.sk-toggleable__label-arrow:before {content: \"▾\";}#sk-container-id-1 div.sk-estimator input.sk-toggleable__control:checked~label.sk-toggleable__label {background-color: #d4ebff;}#sk-container-id-1 div.sk-label input.sk-toggleable__control:checked~label.sk-toggleable__label {background-color: #d4ebff;}#sk-container-id-1 input.sk-hidden--visually {border: 0;clip: rect(1px 1px 1px 1px);clip: rect(1px, 1px, 1px, 1px);height: 1px;margin: -1px;overflow: hidden;padding: 0;position: absolute;width: 1px;}#sk-container-id-1 div.sk-estimator {font-family: monospace;background-color: #f0f8ff;border: 1px dotted black;border-radius: 0.25em;box-sizing: border-box;margin-bottom: 0.5em;}#sk-container-id-1 div.sk-estimator:hover {background-color: #d4ebff;}#sk-container-id-1 div.sk-parallel-item::after {content: \"\";width: 100%;border-bottom: 1px solid gray;flex-grow: 1;}#sk-container-id-1 div.sk-label:hover label.sk-toggleable__label {background-color: #d4ebff;}#sk-container-id-1 div.sk-serial::before {content: \"\";position: absolute;border-left: 1px solid gray;box-sizing: border-box;top: 0;bottom: 0;left: 50%;z-index: 0;}#sk-container-id-1 div.sk-serial {display: flex;flex-direction: column;align-items: center;background-color: white;padding-right: 0.2em;padding-left: 0.2em;position: relative;}#sk-container-id-1 div.sk-item {position: relative;z-index: 1;}#sk-container-id-1 div.sk-parallel {display: flex;align-items: stretch;justify-content: center;background-color: white;position: relative;}#sk-container-id-1 div.sk-item::before, #sk-container-id-1 div.sk-parallel-item::before {content: \"\";position: absolute;border-left: 1px solid gray;box-sizing: border-box;top: 0;bottom: 0;left: 50%;z-index: -1;}#sk-container-id-1 div.sk-parallel-item {display: flex;flex-direction: column;z-index: 1;position: relative;background-color: white;}#sk-container-id-1 div.sk-parallel-item:first-child::after {align-self: flex-end;width: 50%;}#sk-container-id-1 div.sk-parallel-item:last-child::after {align-self: flex-start;width: 50%;}#sk-container-id-1 div.sk-parallel-item:only-child::after {width: 0;}#sk-container-id-1 div.sk-dashed-wrapped {border: 1px dashed gray;margin: 0 0.4em 0.5em 0.4em;box-sizing: border-box;padding-bottom: 0.4em;background-color: white;}#sk-container-id-1 div.sk-label label {font-family: monospace;font-weight: bold;display: inline-block;line-height: 1.2em;}#sk-container-id-1 div.sk-label-container {text-align: center;}#sk-container-id-1 div.sk-container {/* jupyter's `normalize.less` sets `[hidden] { display: none; }` but bootstrap.min.css set `[hidden] { display: none !important; }` so we also need the `!important` here to be able to override the default hidden behavior on the sphinx rendered scikit-learn.org. See: https://github.com/scikit-learn/scikit-learn/issues/21755 */display: inline-block !important;position: relative;}#sk-container-id-1 div.sk-text-repr-fallback {display: none;}</style><div id=\"sk-container-id-1\" class=\"sk-top-container\"><div class=\"sk-text-repr-fallback\"><pre>GridSearchCV(cv=5, estimator=RandomForestClassifier(),\n",
       "             param_grid={&#x27;class_weight&#x27;: [&#x27;balanced&#x27;], &#x27;criterion&#x27;: [&#x27;entropy&#x27;],\n",
       "                         &#x27;max_depth&#x27;: [6, 8, 10, 12],\n",
       "                         &#x27;n_estimators&#x27;: [100, 150, 200]},\n",
       "             scoring=&#x27;recall&#x27;, verbose=3)</pre><b>In a Jupyter environment, please rerun this cell to show the HTML representation or trust the notebook. <br />On GitHub, the HTML representation is unable to render, please try loading this page with nbviewer.org.</b></div><div class=\"sk-container\" hidden><div class=\"sk-item sk-dashed-wrapped\"><div class=\"sk-label-container\"><div class=\"sk-label sk-toggleable\"><input class=\"sk-toggleable__control sk-hidden--visually\" id=\"sk-estimator-id-1\" type=\"checkbox\" ><label for=\"sk-estimator-id-1\" class=\"sk-toggleable__label sk-toggleable__label-arrow\">GridSearchCV</label><div class=\"sk-toggleable__content\"><pre>GridSearchCV(cv=5, estimator=RandomForestClassifier(),\n",
       "             param_grid={&#x27;class_weight&#x27;: [&#x27;balanced&#x27;], &#x27;criterion&#x27;: [&#x27;entropy&#x27;],\n",
       "                         &#x27;max_depth&#x27;: [6, 8, 10, 12],\n",
       "                         &#x27;n_estimators&#x27;: [100, 150, 200]},\n",
       "             scoring=&#x27;recall&#x27;, verbose=3)</pre></div></div></div><div class=\"sk-parallel\"><div class=\"sk-parallel-item\"><div class=\"sk-item\"><div class=\"sk-label-container\"><div class=\"sk-label sk-toggleable\"><input class=\"sk-toggleable__control sk-hidden--visually\" id=\"sk-estimator-id-2\" type=\"checkbox\" ><label for=\"sk-estimator-id-2\" class=\"sk-toggleable__label sk-toggleable__label-arrow\">estimator: RandomForestClassifier</label><div class=\"sk-toggleable__content\"><pre>RandomForestClassifier()</pre></div></div></div><div class=\"sk-serial\"><div class=\"sk-item\"><div class=\"sk-estimator sk-toggleable\"><input class=\"sk-toggleable__control sk-hidden--visually\" id=\"sk-estimator-id-3\" type=\"checkbox\" ><label for=\"sk-estimator-id-3\" class=\"sk-toggleable__label sk-toggleable__label-arrow\">RandomForestClassifier</label><div class=\"sk-toggleable__content\"><pre>RandomForestClassifier()</pre></div></div></div></div></div></div></div></div></div></div>"
      ],
      "text/plain": [
       "GridSearchCV(cv=5, estimator=RandomForestClassifier(),\n",
       "             param_grid={'class_weight': ['balanced'], 'criterion': ['entropy'],\n",
       "                         'max_depth': [6, 8, 10, 12],\n",
       "                         'n_estimators': [100, 150, 200]},\n",
       "             scoring='recall', verbose=3)"
      ]
     },
     "execution_count": 21,
     "metadata": {},
     "output_type": "execute_result"
    }
   ],
   "source": [
    "gs.fit(X_train, y_train)"
   ]
  },
  {
   "cell_type": "code",
   "execution_count": 22,
   "metadata": {},
   "outputs": [
    {
     "data": {
      "text/plain": [
       "{'class_weight': 'balanced',\n",
       " 'criterion': 'entropy',\n",
       " 'max_depth': 6,\n",
       " 'n_estimators': 200}"
      ]
     },
     "execution_count": 22,
     "metadata": {},
     "output_type": "execute_result"
    }
   ],
   "source": [
    "gs.best_params_"
   ]
  },
  {
   "cell_type": "code",
   "execution_count": 23,
   "metadata": {},
   "outputs": [],
   "source": [
    "def apr(y_pred, y_real):\n",
    "    accuracy = metrics.accuracy_score(y_real, y_pred)\n",
    "    precision = metrics.precision_score(y_real, y_pred)\n",
    "    recall = metrics.recall_score(y_real, y_pred)\n",
    "    f1 = metrics.f1_score(y_real, y_pred)\n",
    "    \n",
    "    print(f\"Accuracy:{accuracy}\")\n",
    "    print(f\"Precision:{precision}\")\n",
    "    print(f\"Recall:{recall}\")\n",
    "    print(f\"F1:{f1}\")\n",
    "    return accuracy, precision, recall, f1"
   ]
  },
  {
   "cell_type": "code",
   "execution_count": 24,
   "metadata": {},
   "outputs": [
    {
     "name": "stdout",
     "output_type": "stream",
     "text": [
      "Accuracy:0.7822151224707136\n",
      "Precision:0.5650044523597507\n",
      "Recall:0.8354180381830152\n",
      "F1:0.6741035856573706\n"
     ]
    },
    {
     "data": {
      "text/plain": [
       "(0.7822151224707136,\n",
       " 0.5650044523597507,\n",
       " 0.8354180381830152,\n",
       " 0.6741035856573706)"
      ]
     },
     "execution_count": 24,
     "metadata": {},
     "output_type": "execute_result"
    }
   ],
   "source": [
    "y_pred = gs.predict(X_train)\n",
    "apr(y_pred, y_train)"
   ]
  },
  {
   "cell_type": "code",
   "execution_count": 25,
   "metadata": {},
   "outputs": [
    {
     "name": "stdout",
     "output_type": "stream",
     "text": [
      "Accuracy:0.7572746628814763\n",
      "Precision:0.5074349442379182\n",
      "Recall:0.78\n",
      "F1:0.6148648648648649\n"
     ]
    },
    {
     "data": {
      "text/plain": [
       "(0.7572746628814763, 0.5074349442379182, 0.78, 0.6148648648648649)"
      ]
     },
     "execution_count": 25,
     "metadata": {},
     "output_type": "execute_result"
    }
   ],
   "source": [
    "y_test_pred = gs.predict(X_test)\n",
    "apr(y_test_pred, y_test)"
   ]
  },
  {
   "cell_type": "code",
   "execution_count": 26,
   "metadata": {},
   "outputs": [],
   "source": [
    "train_results = X_train.copy()\n",
    "train_results[\"Churn Probability\"] = gs.predict_proba(X_train)[:,1]\n",
    "train_results[\"Churn Value\"] = y_train\n",
    "\n",
    "test_results = X_test.copy()\n",
    "test_results[\"Churn Probability\"] = gs.predict_proba(X_test)[:,1]\n",
    "test_results[\"Churn Value\"] = y_test\n",
    "\n",
    "results = pd.concat([train_results, test_results])"
   ]
  },
  {
   "cell_type": "code",
   "execution_count": 34,
   "metadata": {},
   "outputs": [],
   "source": [
    "top_500 = results[results['Churn Value'] == 0].sort_values('Churn Probability', ascending=False)[\"Churn Probability\"].iloc[:500]"
   ]
  },
  {
   "cell_type": "code",
   "execution_count": 35,
   "metadata": {},
   "outputs": [],
   "source": [
    "top_500.to_csv(\"RandomForest_500.csv\")"
   ]
  },
  {
   "cell_type": "code",
   "execution_count": 39,
   "metadata": {},
   "outputs": [],
   "source": [
    "results[results['Churn Value'] == 0][\"Churn Probability\"].to_csv(\"RF_churn_risk.csv\")"
   ]
  },
  {
   "cell_type": "code",
   "execution_count": 17,
   "metadata": {},
   "outputs": [],
   "source": [
    "importances = gs.best_estimator_.feature_importances_\n",
    "std = np.std([tree.feature_importances_ for tree in gs.best_estimator_.estimators_], axis=0)\n"
   ]
  },
  {
   "cell_type": "code",
   "execution_count": 18,
   "metadata": {},
   "outputs": [
    {
     "data": {
      "text/plain": [
       "<Figure size 10000x80000 with 0 Axes>"
      ]
     },
     "metadata": {},
     "output_type": "display_data"
    },
    {
     "data": {
      "image/png": "[encoded data removed]",
      "text/plain": [
       "<Figure size 640x480 with 1 Axes>"
      ]
     },
     "metadata": {},
     "output_type": "display_data"
    }
   ],
   "source": [
    "forest_importances = pd.Series(importances, index=list(X_train.columns))\n",
    "\n",
    "plt.figure(figsize=(100,800))\n",
    "fig, ax = plt.subplots()\n",
    "\n",
    "forest_importances.plot.bar(yerr=std, ax=ax)\n",
    "ax.set_title(\"Feature importances using MDI\")\n",
    "ax.set_ylabel(\"Mean decrease in impurity\")\n",
    "#fig.tight_layout()\n",
    "plt.show()"
   ]
  }
 ],
 "metadata": {
  "kernelspec": {
   "display_name": "base",
   "language": "python",
   "name": "python3"
  },
  "language_info": {
   "codemirror_mode": {
    "name": "ipython",
    "version": 3
   },
   "file_extension": ".py",
   "mimetype": "text/x-python",
   "name": "python",
   "nbconvert_exporter": "python",
   "pygments_lexer": "ipython3",
   "version": "3.11.7"
  }
 },
 "nbformat": 4,
 "nbformat_minor": 2
}
