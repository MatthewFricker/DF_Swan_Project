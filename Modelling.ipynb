{
 "cells": [
  {
   "cell_type": "code",
   "execution_count": 7,
   "metadata": {},
   "outputs": [],
   "source": [
    "import pandas as pd\n",
    "import numpy as np\n",
    "import matplotlib.pyplot as plt\n",
    "import seaborn as sns\n",
    "\n",
    "from sklearn.model_selection import train_test_split, cross_val_score, GridSearchCV\n",
    "\n",
    "from sklearn import metrics\n",
    "from sklearn.ensemble import RandomForestClassifier\n",
    "\n",
    "from ipynb.fs.full.Cleaning_FE import data_cleaning, min_max_scaling, apr\n",
    "\n",
    "pd.options.display.max_columns = None"
   ]
  },
  {
   "cell_type": "code",
   "execution_count": 24,
   "metadata": {},
   "outputs": [],
   "source": [
    "df = pd.read_csv(\"swan_data.csv\")"
   ]
  },
  {
   "cell_type": "code",
   "execution_count": 25,
   "metadata": {},
   "outputs": [],
   "source": [
    "df =  data_cleaning(df)"
   ]
  },
  {
   "cell_type": "code",
   "execution_count": 26,
   "metadata": {},
   "outputs": [],
   "source": [
    "features = list(df.columns)\n",
    "features.remove(\"Latitude\")\n",
    "features.remove(\"Longitude\")\n",
    "features.remove(\"Churn Value\")\n",
    "X = df[features]\n",
    "y = df[\"Churn Value\"]"
   ]
  },
  {
   "cell_type": "code",
   "execution_count": 27,
   "metadata": {},
   "outputs": [],
   "source": [
    "X_train, X_test, y_train, y_test = train_test_split(X, y, test_size = 0.2, random_state = 1)"
   ]
  },
  {
   "cell_type": "code",
   "execution_count": 28,
   "metadata": {},
   "outputs": [],
   "source": [
    "def feature_engineering(df):\n",
    "    # OHE Payment Method and Internet Service columns\n",
    "    df = pd.get_dummies(df, \n",
    "                        columns = ['Payment Method', 'Internet Service'], \n",
    "                        prefix = ['pay','is'], \n",
    "                        drop_first = True, \n",
    "                        dtype = int)\n",
    "        \n",
    "    return df"
   ]
  },
  {
   "cell_type": "code",
   "execution_count": 29,
   "metadata": {},
   "outputs": [],
   "source": [
    "X_train = feature_engineering(X_train)\n",
    "X_test = feature_engineering(X_test)"
   ]
  },
  {
   "cell_type": "code",
   "execution_count": 30,
   "metadata": {},
   "outputs": [],
   "source": [
    "clf = RandomForestClassifier()"
   ]
  },
  {
   "cell_type": "code",
   "execution_count": 31,
   "metadata": {},
   "outputs": [],
   "source": [
    "rf_params = {\n",
    "    'class_weight':['balanced'],\n",
    "    'criterion':['entropy'],\n",
    "    'n_estimators': [100, 150, 200],\n",
    "    'max_depth': [3, 5, 7, 10, 15],\n",
    "}\n",
    "\n",
    "gs = GridSearchCV(clf, param_grid=rf_params, cv=5, verbose=3, scoring='f1')"
   ]
  },
  {
   "cell_type": "code",
   "execution_count": 32,
   "metadata": {},
   "outputs": [
    {
     "name": "stdout",
     "output_type": "stream",
     "text": [
      "Fitting 5 folds for each of 15 candidates, totalling 75 fits\n",
      "[CV 1/5] END class_weight=balanced, criterion=entropy, max_depth=3, n_estimators=100;, score=0.629 total time=   0.2s\n",
      "[CV 2/5] END class_weight=balanced, criterion=entropy, max_depth=3, n_estimators=100;, score=0.636 total time=   0.2s\n",
      "[CV 3/5] END class_weight=balanced, criterion=entropy, max_depth=3, n_estimators=100;, score=0.608 total time=   0.3s\n",
      "[CV 4/5] END class_weight=balanced, criterion=entropy, max_depth=3, n_estimators=100;, score=0.683 total time=   0.2s\n",
      "[CV 5/5] END class_weight=balanced, criterion=entropy, max_depth=3, n_estimators=100;, score=0.649 total time=   0.3s\n",
      "[CV 1/5] END class_weight=balanced, criterion=entropy, max_depth=3, n_estimators=150;, score=0.621 total time=   0.5s\n",
      "[CV 2/5] END class_weight=balanced, criterion=entropy, max_depth=3, n_estimators=150;, score=0.639 total time=   0.5s\n",
      "[CV 3/5] END class_weight=balanced, criterion=entropy, max_depth=3, n_estimators=150;, score=0.622 total time=   0.5s\n",
      "[CV 4/5] END class_weight=balanced, criterion=entropy, max_depth=3, n_estimators=150;, score=0.690 total time=   0.5s\n",
      "[CV 5/5] END class_weight=balanced, criterion=entropy, max_depth=3, n_estimators=150;, score=0.652 total time=   0.5s\n",
      "[CV 1/5] END class_weight=balanced, criterion=entropy, max_depth=3, n_estimators=200;, score=0.624 total time=   0.7s\n",
      "[CV 2/5] END class_weight=balanced, criterion=entropy, max_depth=3, n_estimators=200;, score=0.641 total time=   0.7s\n",
      "[CV 3/5] END class_weight=balanced, criterion=entropy, max_depth=3, n_estimators=200;, score=0.610 total time=   0.7s\n",
      "[CV 4/5] END class_weight=balanced, criterion=entropy, max_depth=3, n_estimators=200;, score=0.681 total time=   0.7s\n",
      "[CV 5/5] END class_weight=balanced, criterion=entropy, max_depth=3, n_estimators=200;, score=0.655 total time=   0.7s\n",
      "[CV 1/5] END class_weight=balanced, criterion=entropy, max_depth=5, n_estimators=100;, score=0.623 total time=   0.4s\n",
      "[CV 2/5] END class_weight=balanced, criterion=entropy, max_depth=5, n_estimators=100;, score=0.650 total time=   0.4s\n",
      "[CV 3/5] END class_weight=balanced, criterion=entropy, max_depth=5, n_estimators=100;, score=0.620 total time=   0.4s\n",
      "[CV 4/5] END class_weight=balanced, criterion=entropy, max_depth=5, n_estimators=100;, score=0.689 total time=   0.5s\n",
      "[CV 5/5] END class_weight=balanced, criterion=entropy, max_depth=5, n_estimators=100;, score=0.661 total time=   0.5s\n",
      "[CV 1/5] END class_weight=balanced, criterion=entropy, max_depth=5, n_estimators=150;, score=0.624 total time=   1.0s\n",
      "[CV 2/5] END class_weight=balanced, criterion=entropy, max_depth=5, n_estimators=150;, score=0.656 total time=   0.8s\n",
      "[CV 3/5] END class_weight=balanced, criterion=entropy, max_depth=5, n_estimators=150;, score=0.612 total time=   0.7s\n",
      "[CV 4/5] END class_weight=balanced, criterion=entropy, max_depth=5, n_estimators=150;, score=0.696 total time=   0.7s\n",
      "[CV 5/5] END class_weight=balanced, criterion=entropy, max_depth=5, n_estimators=150;, score=0.655 total time=   0.6s\n",
      "[CV 1/5] END class_weight=balanced, criterion=entropy, max_depth=5, n_estimators=200;, score=0.621 total time=   0.9s\n",
      "[CV 2/5] END class_weight=balanced, criterion=entropy, max_depth=5, n_estimators=200;, score=0.649 total time=   0.8s\n",
      "[CV 3/5] END class_weight=balanced, criterion=entropy, max_depth=5, n_estimators=200;, score=0.619 total time=   1.0s\n",
      "[CV 4/5] END class_weight=balanced, criterion=entropy, max_depth=5, n_estimators=200;, score=0.689 total time=   1.0s\n",
      "[CV 5/5] END class_weight=balanced, criterion=entropy, max_depth=5, n_estimators=200;, score=0.659 total time=   0.9s\n",
      "[CV 1/5] END class_weight=balanced, criterion=entropy, max_depth=7, n_estimators=100;, score=0.633 total time=   0.5s\n",
      "[CV 2/5] END class_weight=balanced, criterion=entropy, max_depth=7, n_estimators=100;, score=0.660 total time=   0.5s\n",
      "[CV 3/5] END class_weight=balanced, criterion=entropy, max_depth=7, n_estimators=100;, score=0.618 total time=   0.5s\n",
      "[CV 4/5] END class_weight=balanced, criterion=entropy, max_depth=7, n_estimators=100;, score=0.693 total time=   0.5s\n",
      "[CV 5/5] END class_weight=balanced, criterion=entropy, max_depth=7, n_estimators=100;, score=0.657 total time=   0.6s\n",
      "[CV 1/5] END class_weight=balanced, criterion=entropy, max_depth=7, n_estimators=150;, score=0.631 total time=   0.8s\n",
      "[CV 2/5] END class_weight=balanced, criterion=entropy, max_depth=7, n_estimators=150;, score=0.658 total time=   0.7s\n",
      "[CV 3/5] END class_weight=balanced, criterion=entropy, max_depth=7, n_estimators=150;, score=0.624 total time=   0.9s\n",
      "[CV 4/5] END class_weight=balanced, criterion=entropy, max_depth=7, n_estimators=150;, score=0.695 total time=   1.2s\n",
      "[CV 5/5] END class_weight=balanced, criterion=entropy, max_depth=7, n_estimators=150;, score=0.658 total time=   1.1s\n",
      "[CV 1/5] END class_weight=balanced, criterion=entropy, max_depth=7, n_estimators=200;, score=0.632 total time=   1.3s\n",
      "[CV 2/5] END class_weight=balanced, criterion=entropy, max_depth=7, n_estimators=200;, score=0.657 total time=   1.2s\n",
      "[CV 3/5] END class_weight=balanced, criterion=entropy, max_depth=7, n_estimators=200;, score=0.627 total time=   1.1s\n",
      "[CV 4/5] END class_weight=balanced, criterion=entropy, max_depth=7, n_estimators=200;, score=0.689 total time=   1.0s\n",
      "[CV 5/5] END class_weight=balanced, criterion=entropy, max_depth=7, n_estimators=200;, score=0.661 total time=   1.1s\n",
      "[CV 1/5] END class_weight=balanced, criterion=entropy, max_depth=10, n_estimators=100;, score=0.633 total time=   0.6s\n",
      "[CV 2/5] END class_weight=balanced, criterion=entropy, max_depth=10, n_estimators=100;, score=0.653 total time=   0.6s\n",
      "[CV 3/5] END class_weight=balanced, criterion=entropy, max_depth=10, n_estimators=100;, score=0.616 total time=   0.6s\n",
      "[CV 4/5] END class_weight=balanced, criterion=entropy, max_depth=10, n_estimators=100;, score=0.694 total time=   0.8s\n",
      "[CV 5/5] END class_weight=balanced, criterion=entropy, max_depth=10, n_estimators=100;, score=0.648 total time=   0.7s\n",
      "[CV 1/5] END class_weight=balanced, criterion=entropy, max_depth=10, n_estimators=150;, score=0.624 total time=   1.0s\n",
      "[CV 2/5] END class_weight=balanced, criterion=entropy, max_depth=10, n_estimators=150;, score=0.652 total time=   1.0s\n",
      "[CV 3/5] END class_weight=balanced, criterion=entropy, max_depth=10, n_estimators=150;, score=0.614 total time=   1.1s\n",
      "[CV 4/5] END class_weight=balanced, criterion=entropy, max_depth=10, n_estimators=150;, score=0.696 total time=   1.3s\n",
      "[CV 5/5] END class_weight=balanced, criterion=entropy, max_depth=10, n_estimators=150;, score=0.653 total time=   1.2s\n",
      "[CV 1/5] END class_weight=balanced, criterion=entropy, max_depth=10, n_estimators=200;, score=0.632 total time=   1.5s\n",
      "[CV 2/5] END class_weight=balanced, criterion=entropy, max_depth=10, n_estimators=200;, score=0.647 total time=   1.4s\n",
      "[CV 3/5] END class_weight=balanced, criterion=entropy, max_depth=10, n_estimators=200;, score=0.613 total time=   1.4s\n",
      "[CV 4/5] END class_weight=balanced, criterion=entropy, max_depth=10, n_estimators=200;, score=0.694 total time=   1.4s\n",
      "[CV 5/5] END class_weight=balanced, criterion=entropy, max_depth=10, n_estimators=200;, score=0.651 total time=   1.6s\n",
      "[CV 1/5] END class_weight=balanced, criterion=entropy, max_depth=15, n_estimators=100;, score=0.582 total time=   0.9s\n",
      "[CV 2/5] END class_weight=balanced, criterion=entropy, max_depth=15, n_estimators=100;, score=0.619 total time=   0.9s\n",
      "[CV 3/5] END class_weight=balanced, criterion=entropy, max_depth=15, n_estimators=100;, score=0.579 total time=   0.9s\n",
      "[CV 4/5] END class_weight=balanced, criterion=entropy, max_depth=15, n_estimators=100;, score=0.643 total time=   0.9s\n",
      "[CV 5/5] END class_weight=balanced, criterion=entropy, max_depth=15, n_estimators=100;, score=0.624 total time=   0.9s\n",
      "[CV 1/5] END class_weight=balanced, criterion=entropy, max_depth=15, n_estimators=150;, score=0.598 total time=   1.6s\n",
      "[CV 2/5] END class_weight=balanced, criterion=entropy, max_depth=15, n_estimators=150;, score=0.609 total time=   1.6s\n",
      "[CV 3/5] END class_weight=balanced, criterion=entropy, max_depth=15, n_estimators=150;, score=0.572 total time=   1.5s\n",
      "[CV 4/5] END class_weight=balanced, criterion=entropy, max_depth=15, n_estimators=150;, score=0.630 total time=   1.4s\n",
      "[CV 5/5] END class_weight=balanced, criterion=entropy, max_depth=15, n_estimators=150;, score=0.630 total time=   1.7s\n",
      "[CV 1/5] END class_weight=balanced, criterion=entropy, max_depth=15, n_estimators=200;, score=0.598 total time=   2.4s\n",
      "[CV 2/5] END class_weight=balanced, criterion=entropy, max_depth=15, n_estimators=200;, score=0.622 total time=   2.2s\n",
      "[CV 3/5] END class_weight=balanced, criterion=entropy, max_depth=15, n_estimators=200;, score=0.579 total time=   1.8s\n",
      "[CV 4/5] END class_weight=balanced, criterion=entropy, max_depth=15, n_estimators=200;, score=0.617 total time=   2.0s\n",
      "[CV 5/5] END class_weight=balanced, criterion=entropy, max_depth=15, n_estimators=200;, score=0.621 total time=   2.3s\n"
     ]
    },
    {
     "data": {
      "text/html": [
       "<style>#sk-container-id-2 {color: black;background-color: white;}#sk-container-id-2 pre{padding: 0;}#sk-container-id-2 div.sk-toggleable {background-color: white;}#sk-container-id-2 label.sk-toggleable__label {cursor: pointer;display: block;width: 100%;margin-bottom: 0;padding: 0.3em;box-sizing: border-box;text-align: center;}#sk-container-id-2 label.sk-toggleable__label-arrow:before {content: \"▸\";float: left;margin-right: 0.25em;color: #696969;}#sk-container-id-2 label.sk-toggleable__label-arrow:hover:before {color: black;}#sk-container-id-2 div.sk-estimator:hover label.sk-toggleable__label-arrow:before {color: black;}#sk-container-id-2 div.sk-toggleable__content {max-height: 0;max-width: 0;overflow: hidden;text-align: left;background-color: #f0f8ff;}#sk-container-id-2 div.sk-toggleable__content pre {margin: 0.2em;color: black;border-radius: 0.25em;background-color: #f0f8ff;}#sk-container-id-2 input.sk-toggleable__control:checked~div.sk-toggleable__content {max-height: 200px;max-width: 100%;overflow: auto;}#sk-container-id-2 input.sk-toggleable__control:checked~label.sk-toggleable__label-arrow:before {content: \"▾\";}#sk-container-id-2 div.sk-estimator input.sk-toggleable__control:checked~label.sk-toggleable__label {background-color: #d4ebff;}#sk-container-id-2 div.sk-label input.sk-toggleable__control:checked~label.sk-toggleable__label {background-color: #d4ebff;}#sk-container-id-2 input.sk-hidden--visually {border: 0;clip: rect(1px 1px 1px 1px);clip: rect(1px, 1px, 1px, 1px);height: 1px;margin: -1px;overflow: hidden;padding: 0;position: absolute;width: 1px;}#sk-container-id-2 div.sk-estimator {font-family: monospace;background-color: #f0f8ff;border: 1px dotted black;border-radius: 0.25em;box-sizing: border-box;margin-bottom: 0.5em;}#sk-container-id-2 div.sk-estimator:hover {background-color: #d4ebff;}#sk-container-id-2 div.sk-parallel-item::after {content: \"\";width: 100%;border-bottom: 1px solid gray;flex-grow: 1;}#sk-container-id-2 div.sk-label:hover label.sk-toggleable__label {background-color: #d4ebff;}#sk-container-id-2 div.sk-serial::before {content: \"\";position: absolute;border-left: 1px solid gray;box-sizing: border-box;top: 0;bottom: 0;left: 50%;z-index: 0;}#sk-container-id-2 div.sk-serial {display: flex;flex-direction: column;align-items: center;background-color: white;padding-right: 0.2em;padding-left: 0.2em;position: relative;}#sk-container-id-2 div.sk-item {position: relative;z-index: 1;}#sk-container-id-2 div.sk-parallel {display: flex;align-items: stretch;justify-content: center;background-color: white;position: relative;}#sk-container-id-2 div.sk-item::before, #sk-container-id-2 div.sk-parallel-item::before {content: \"\";position: absolute;border-left: 1px solid gray;box-sizing: border-box;top: 0;bottom: 0;left: 50%;z-index: -1;}#sk-container-id-2 div.sk-parallel-item {display: flex;flex-direction: column;z-index: 1;position: relative;background-color: white;}#sk-container-id-2 div.sk-parallel-item:first-child::after {align-self: flex-end;width: 50%;}#sk-container-id-2 div.sk-parallel-item:last-child::after {align-self: flex-start;width: 50%;}#sk-container-id-2 div.sk-parallel-item:only-child::after {width: 0;}#sk-container-id-2 div.sk-dashed-wrapped {border: 1px dashed gray;margin: 0 0.4em 0.5em 0.4em;box-sizing: border-box;padding-bottom: 0.4em;background-color: white;}#sk-container-id-2 div.sk-label label {font-family: monospace;font-weight: bold;display: inline-block;line-height: 1.2em;}#sk-container-id-2 div.sk-label-container {text-align: center;}#sk-container-id-2 div.sk-container {/* jupyter's `normalize.less` sets `[hidden] { display: none; }` but bootstrap.min.css set `[hidden] { display: none !important; }` so we also need the `!important` here to be able to override the default hidden behavior on the sphinx rendered scikit-learn.org. See: https://github.com/scikit-learn/scikit-learn/issues/21755 */display: inline-block !important;position: relative;}#sk-container-id-2 div.sk-text-repr-fallback {display: none;}</style><div id=\"sk-container-id-2\" class=\"sk-top-container\"><div class=\"sk-text-repr-fallback\"><pre>GridSearchCV(cv=5, estimator=RandomForestClassifier(),\n",
       "             param_grid={&#x27;class_weight&#x27;: [&#x27;balanced&#x27;], &#x27;criterion&#x27;: [&#x27;entropy&#x27;],\n",
       "                         &#x27;max_depth&#x27;: [3, 5, 7, 10, 15],\n",
       "                         &#x27;n_estimators&#x27;: [100, 150, 200]},\n",
       "             scoring=&#x27;f1&#x27;, verbose=3)</pre><b>In a Jupyter environment, please rerun this cell to show the HTML representation or trust the notebook. <br />On GitHub, the HTML representation is unable to render, please try loading this page with nbviewer.org.</b></div><div class=\"sk-container\" hidden><div class=\"sk-item sk-dashed-wrapped\"><div class=\"sk-label-container\"><div class=\"sk-label sk-toggleable\"><input class=\"sk-toggleable__control sk-hidden--visually\" id=\"sk-estimator-id-4\" type=\"checkbox\" ><label for=\"sk-estimator-id-4\" class=\"sk-toggleable__label sk-toggleable__label-arrow\">GridSearchCV</label><div class=\"sk-toggleable__content\"><pre>GridSearchCV(cv=5, estimator=RandomForestClassifier(),\n",
       "             param_grid={&#x27;class_weight&#x27;: [&#x27;balanced&#x27;], &#x27;criterion&#x27;: [&#x27;entropy&#x27;],\n",
       "                         &#x27;max_depth&#x27;: [3, 5, 7, 10, 15],\n",
       "                         &#x27;n_estimators&#x27;: [100, 150, 200]},\n",
       "             scoring=&#x27;f1&#x27;, verbose=3)</pre></div></div></div><div class=\"sk-parallel\"><div class=\"sk-parallel-item\"><div class=\"sk-item\"><div class=\"sk-label-container\"><div class=\"sk-label sk-toggleable\"><input class=\"sk-toggleable__control sk-hidden--visually\" id=\"sk-estimator-id-5\" type=\"checkbox\" ><label for=\"sk-estimator-id-5\" class=\"sk-toggleable__label sk-toggleable__label-arrow\">estimator: RandomForestClassifier</label><div class=\"sk-toggleable__content\"><pre>RandomForestClassifier()</pre></div></div></div><div class=\"sk-serial\"><div class=\"sk-item\"><div class=\"sk-estimator sk-toggleable\"><input class=\"sk-toggleable__control sk-hidden--visually\" id=\"sk-estimator-id-6\" type=\"checkbox\" ><label for=\"sk-estimator-id-6\" class=\"sk-toggleable__label sk-toggleable__label-arrow\">RandomForestClassifier</label><div class=\"sk-toggleable__content\"><pre>RandomForestClassifier()</pre></div></div></div></div></div></div></div></div></div></div>"
      ],
      "text/plain": [
       "GridSearchCV(cv=5, estimator=RandomForestClassifier(),\n",
       "             param_grid={'class_weight': ['balanced'], 'criterion': ['entropy'],\n",
       "                         'max_depth': [3, 5, 7, 10, 15],\n",
       "                         'n_estimators': [100, 150, 200]},\n",
       "             scoring='f1', verbose=3)"
      ]
     },
     "execution_count": 32,
     "metadata": {},
     "output_type": "execute_result"
    }
   ],
   "source": [
    "gs.fit(X_train, y_train)"
   ]
  },
  {
   "cell_type": "code",
   "execution_count": 33,
   "metadata": {},
   "outputs": [
    {
     "data": {
      "text/plain": [
       "{'class_weight': 'balanced',\n",
       " 'criterion': 'entropy',\n",
       " 'max_depth': 7,\n",
       " 'n_estimators': 200}"
      ]
     },
     "execution_count": 33,
     "metadata": {},
     "output_type": "execute_result"
    }
   ],
   "source": [
    "gs.best_params_"
   ]
  },
  {
   "cell_type": "code",
   "execution_count": 34,
   "metadata": {},
   "outputs": [
    {
     "name": "stdout",
     "output_type": "stream",
     "text": [
      "Accuracy:0.7978345757898474\n",
      "Precision:0.5862851952770209\n",
      "Recall:0.8499012508229098\n",
      "F1:0.6938994893845741\n"
     ]
    },
    {
     "data": {
      "text/plain": [
       "(0.7978345757898474,\n",
       " 0.5862851952770209,\n",
       " 0.8499012508229098,\n",
       " 0.6938994893845741)"
      ]
     },
     "execution_count": 34,
     "metadata": {},
     "output_type": "execute_result"
    }
   ],
   "source": [
    "y_pred = gs.predict(X_train)\n",
    "apr(y_pred, y_train)"
   ]
  },
  {
   "cell_type": "code",
   "execution_count": 35,
   "metadata": {},
   "outputs": [
    {
     "name": "stdout",
     "output_type": "stream",
     "text": [
      "Accuracy:0.7615330021291696\n",
      "Precision:0.5131578947368421\n",
      "Recall:0.78\n",
      "F1:0.6190476190476191\n"
     ]
    },
    {
     "data": {
      "text/plain": [
       "(0.7615330021291696, 0.5131578947368421, 0.78, 0.6190476190476191)"
      ]
     },
     "execution_count": 35,
     "metadata": {},
     "output_type": "execute_result"
    }
   ],
   "source": [
    "y_test_pred = gs.predict(X_test)\n",
    "apr(y_test_pred, y_test)"
   ]
  },
  {
   "cell_type": "code",
   "execution_count": 37,
   "metadata": {},
   "outputs": [],
   "source": [
    "train_results = X_train.copy()\n",
    "train_results[\"Churn Probability\"] = gs.predict_proba(X_train)[:,1]\n",
    "train_results[\"Churn Value\"] = y_train\n",
    "\n",
    "test_results = X_test.copy()\n",
    "test_results[\"Churn Probability\"] = gs.predict_proba(X_test)[:,1]\n",
    "test_results[\"Churn Value\"] = y_test\n",
    "\n",
    "results = pd.concat([train_results, test_results])"
   ]
  },
  {
   "cell_type": "code",
   "execution_count": 38,
   "metadata": {},
   "outputs": [],
   "source": [
    "my_file = open(\"most_likely_churners.txt\", \"w\")\n",
    "my_file.write(f\"{list(results[results['Churn Value'] == 0].sort_values('Churn Probability', ascending=False).index[:50])}\")\n",
    "my_file.close()"
   ]
  }
 ],
 "metadata": {
  "kernelspec": {
   "display_name": "base",
   "language": "python",
   "name": "python3"
  },
  "language_info": {
   "codemirror_mode": {
    "name": "ipython",
    "version": 3
   },
   "file_extension": ".py",
   "mimetype": "text/x-python",
   "name": "python",
   "nbconvert_exporter": "python",
   "pygments_lexer": "ipython3",
   "version": "3.11.7"
  }
 },
 "nbformat": 4,
 "nbformat_minor": 2
}
