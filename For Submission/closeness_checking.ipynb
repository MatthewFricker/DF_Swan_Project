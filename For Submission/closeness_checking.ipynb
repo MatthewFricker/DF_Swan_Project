{
 "cells": [
  {
   "cell_type": "code",
   "execution_count": 24,
   "metadata": {},
   "outputs": [],
   "source": [
    "import pandas as pd"
   ]
  },
  {
   "cell_type": "code",
   "execution_count": 41,
   "metadata": {},
   "outputs": [
    {
     "data": {
      "text/html": [
       "<div>\n",
       "<style scoped>\n",
       "    .dataframe tbody tr th:only-of-type {\n",
       "        vertical-align: middle;\n",
       "    }\n",
       "\n",
       "    .dataframe tbody tr th {\n",
       "        vertical-align: top;\n",
       "    }\n",
       "\n",
       "    .dataframe thead th {\n",
       "        text-align: right;\n",
       "    }\n",
       "</style>\n",
       "<table border=\"1\" class=\"dataframe\">\n",
       "  <thead>\n",
       "    <tr style=\"text-align: right;\">\n",
       "      <th></th>\n",
       "      <th>CustomerID</th>\n",
       "      <th>RF Churn Risk</th>\n",
       "      <th>Tai LR Churn Risk</th>\n",
       "      <th>SumYe LR Churn Risk</th>\n",
       "    </tr>\n",
       "  </thead>\n",
       "  <tbody>\n",
       "    <tr>\n",
       "      <th>0</th>\n",
       "      <td>2137-DQMEV</td>\n",
       "      <td>0.091893</td>\n",
       "      <td>0.057343</td>\n",
       "      <td>0.017952</td>\n",
       "    </tr>\n",
       "    <tr>\n",
       "      <th>1</th>\n",
       "      <td>4636-TVXVG</td>\n",
       "      <td>0.026269</td>\n",
       "      <td>0.038912</td>\n",
       "      <td>0.009673</td>\n",
       "    </tr>\n",
       "    <tr>\n",
       "      <th>2</th>\n",
       "      <td>2480-JZOSN</td>\n",
       "      <td>0.556399</td>\n",
       "      <td>0.396576</td>\n",
       "      <td>0.584238</td>\n",
       "    </tr>\n",
       "    <tr>\n",
       "      <th>3</th>\n",
       "      <td>9050-IKDZA</td>\n",
       "      <td>0.815906</td>\n",
       "      <td>0.771874</td>\n",
       "      <td>0.822181</td>\n",
       "    </tr>\n",
       "    <tr>\n",
       "      <th>4</th>\n",
       "      <td>9397-TZSHA</td>\n",
       "      <td>0.054608</td>\n",
       "      <td>0.037140</td>\n",
       "      <td>0.009965</td>\n",
       "    </tr>\n",
       "  </tbody>\n",
       "</table>\n",
       "</div>"
      ],
      "text/plain": [
       "   CustomerID  RF Churn Risk  Tai LR Churn Risk  SumYe LR Churn Risk\n",
       "0  2137-DQMEV       0.091893           0.057343             0.017952\n",
       "1  4636-TVXVG       0.026269           0.038912             0.009673\n",
       "2  2480-JZOSN       0.556399           0.396576             0.584238\n",
       "3  9050-IKDZA       0.815906           0.771874             0.822181\n",
       "4  9397-TZSHA       0.054608           0.037140             0.009965"
      ]
     },
     "execution_count": 41,
     "metadata": {},
     "output_type": "execute_result"
    }
   ],
   "source": [
    "#Creating a merged dataframe for the three models outputs\n",
    "\n",
    "lrdf = pd.read_csv(\"Tai_Logistic_Regression/Churn Risk.csv\")\n",
    "rfdf = pd.read_csv(\"Random Forest/RF_churn_risk.csv\")\n",
    "df = rfdf.merge(lrdf, on=\"CustomerID\")\n",
    "df.rename(columns={\"Churn Probability\":\"RF Churn Risk\", \"prob_churn\":\"Tai LR Churn Risk\"}, inplace=True)\n",
    "sylrdf = pd.read_csv(\"SumYe_Logistic_Regression/churn_risk.csv\")\n",
    "sylrdf.rename(columns={\"Churn Probability\":\"SumYe LR Churn Risk\"}, inplace=True)\n",
    "df = df.merge(sylrdf, on=\"CustomerID\")\n",
    "df.head()"
   ]
  },
  {
   "cell_type": "code",
   "execution_count": 43,
   "metadata": {},
   "outputs": [
    {
     "data": {
      "text/plain": [
       "0.10097740122916136"
      ]
     },
     "execution_count": 43,
     "metadata": {},
     "output_type": "execute_result"
    }
   ],
   "source": [
    "#Working out the average distance between the three model's predictions\n",
    "\n",
    "df[\"min\"] = df.loc[:,\"RF Churn Risk\":\"SumYe LR Churn Risk\"].min(axis=1)\n",
    "df[\"max\"] = df.loc[:,\"RF Churn Risk\":\"SumYe LR Churn Risk\"].max(axis=1)\n",
    "df[\"gap\"] = df[\"max\"] - df[\"min\"]\n",
    "df.gap.mean()"
   ]
  },
  {
   "cell_type": "code",
   "execution_count": 44,
   "metadata": {},
   "outputs": [],
   "source": [
    "#Creating an average of the three probability predictions weighted by the recall of each model\n",
    "\n",
    "df[\"combined\"] = (0.7771 * df[\"RF Churn Risk\"] + 0.8214 * df[\"SumYe LR Churn Risk\"] + 0.8112 * df[\"Tai LR Churn Risk\"]) / 2.4097\n",
    "df = df.sort_values(\"combined\", ascending=False)\n"
   ]
  },
  {
   "cell_type": "code",
   "execution_count": 45,
   "metadata": {},
   "outputs": [],
   "source": [
    "#Creating a new top 500 based on this combined probability prediction\n",
    "combined_top_500 = list(df.iloc[:500][\"CustomerID\"])\n"
   ]
  },
  {
   "cell_type": "code",
   "execution_count": 46,
   "metadata": {},
   "outputs": [],
   "source": [
    "#Getting the ids listed by Sum-Ye's model's top 500 - the best performing model so far\n",
    "\n",
    "sumye_top_500 = []\n",
    "with open(\"SumYe_Logistic_Regression/most_likely_churners.txt\", \"r\") as file:\n",
    "    for id in file:\n",
    "        id = id.strip()\n",
    "        sumye_top_500.append(id)"
   ]
  },
  {
   "cell_type": "code",
   "execution_count": 49,
   "metadata": {},
   "outputs": [
    {
     "data": {
      "text/plain": [
       "60"
      ]
     },
     "execution_count": 49,
     "metadata": {},
     "output_type": "execute_result"
    }
   ],
   "source": [
    "#Seeing how many ids would be replaced\n",
    "new_ids = len([id for id in combined_top_500 if id not in sumye_top_500])\n",
    "new_ids"
   ]
  },
  {
   "cell_type": "code",
   "execution_count": 20,
   "metadata": {},
   "outputs": [],
   "source": [
    "#Writing the new top 500 to a text file\n",
    "with open(\"combined_top_500.txt\", \"w\") as file:\n",
    "    for id in combined_top_500:\n",
    "        file.write(f\"{id}\\n\")"
   ]
  },
  {
   "cell_type": "code",
   "execution_count": 23,
   "metadata": {},
   "outputs": [],
   "source": [
    "#Writing the combined probabilities to a csv\n",
    "df[[\"CustomerID\",'combined']].to_csv(\"combined_churn_risk.csv\")"
   ]
  }
 ],
 "metadata": {
  "kernelspec": {
   "display_name": "base",
   "language": "python",
   "name": "python3"
  },
  "language_info": {
   "codemirror_mode": {
    "name": "ipython",
    "version": 3
   },
   "file_extension": ".py",
   "mimetype": "text/x-python",
   "name": "python",
   "nbconvert_exporter": "python",
   "pygments_lexer": "ipython3",
   "version": "3.11.7"
  }
 },
 "nbformat": 4,
 "nbformat_minor": 2
}
