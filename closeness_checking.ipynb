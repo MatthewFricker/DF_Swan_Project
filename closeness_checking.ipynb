{
 "cells": [
  {
   "cell_type": "code",
   "execution_count": 1,
   "metadata": {},
   "outputs": [],
   "source": [
    "import pandas as pd\n",
    "import numpy as np\n",
    "import matplotlib.pyplot as plt\n",
    "import seaborn as sns"
   ]
  },
  {
   "cell_type": "code",
   "execution_count": 2,
   "metadata": {},
   "outputs": [
    {
     "data": {
      "text/html": [
       "<div>\n",
       "<style scoped>\n",
       "    .dataframe tbody tr th:only-of-type {\n",
       "        vertical-align: middle;\n",
       "    }\n",
       "\n",
       "    .dataframe tbody tr th {\n",
       "        vertical-align: top;\n",
       "    }\n",
       "\n",
       "    .dataframe thead th {\n",
       "        text-align: right;\n",
       "    }\n",
       "</style>\n",
       "<table border=\"1\" class=\"dataframe\">\n",
       "  <thead>\n",
       "    <tr style=\"text-align: right;\">\n",
       "      <th></th>\n",
       "      <th>CustomerID</th>\n",
       "      <th>prob_churn</th>\n",
       "    </tr>\n",
       "  </thead>\n",
       "  <tbody>\n",
       "    <tr>\n",
       "      <th>0</th>\n",
       "      <td>2789-HQBOU</td>\n",
       "      <td>0.864418</td>\n",
       "    </tr>\n",
       "    <tr>\n",
       "      <th>1</th>\n",
       "      <td>7398-SKNQZ</td>\n",
       "      <td>0.864418</td>\n",
       "    </tr>\n",
       "    <tr>\n",
       "      <th>2</th>\n",
       "      <td>7363-QTBIW</td>\n",
       "      <td>0.864418</td>\n",
       "    </tr>\n",
       "    <tr>\n",
       "      <th>3</th>\n",
       "      <td>5216-WASFJ</td>\n",
       "      <td>0.864418</td>\n",
       "    </tr>\n",
       "    <tr>\n",
       "      <th>4</th>\n",
       "      <td>0480-BIXDE</td>\n",
       "      <td>0.864418</td>\n",
       "    </tr>\n",
       "  </tbody>\n",
       "</table>\n",
       "</div>"
      ],
      "text/plain": [
       "   CustomerID  prob_churn\n",
       "0  2789-HQBOU    0.864418\n",
       "1  7398-SKNQZ    0.864418\n",
       "2  7363-QTBIW    0.864418\n",
       "3  5216-WASFJ    0.864418\n",
       "4  0480-BIXDE    0.864418"
      ]
     },
     "execution_count": 2,
     "metadata": {},
     "output_type": "execute_result"
    }
   ],
   "source": [
    "lrdf = pd.read_csv(\"Tai_Logistic_Regression/Churn Risk.csv\")\n",
    "lrdf.head()"
   ]
  },
  {
   "cell_type": "code",
   "execution_count": 3,
   "metadata": {},
   "outputs": [
    {
     "data": {
      "text/html": [
       "<div>\n",
       "<style scoped>\n",
       "    .dataframe tbody tr th:only-of-type {\n",
       "        vertical-align: middle;\n",
       "    }\n",
       "\n",
       "    .dataframe tbody tr th {\n",
       "        vertical-align: top;\n",
       "    }\n",
       "\n",
       "    .dataframe thead th {\n",
       "        text-align: right;\n",
       "    }\n",
       "</style>\n",
       "<table border=\"1\" class=\"dataframe\">\n",
       "  <thead>\n",
       "    <tr style=\"text-align: right;\">\n",
       "      <th></th>\n",
       "      <th>CustomerID</th>\n",
       "      <th>Churn Probability</th>\n",
       "    </tr>\n",
       "  </thead>\n",
       "  <tbody>\n",
       "    <tr>\n",
       "      <th>0</th>\n",
       "      <td>2137-DQMEV</td>\n",
       "      <td>0.091893</td>\n",
       "    </tr>\n",
       "    <tr>\n",
       "      <th>1</th>\n",
       "      <td>4636-TVXVG</td>\n",
       "      <td>0.026269</td>\n",
       "    </tr>\n",
       "    <tr>\n",
       "      <th>2</th>\n",
       "      <td>2480-JZOSN</td>\n",
       "      <td>0.556399</td>\n",
       "    </tr>\n",
       "    <tr>\n",
       "      <th>3</th>\n",
       "      <td>9050-IKDZA</td>\n",
       "      <td>0.815906</td>\n",
       "    </tr>\n",
       "    <tr>\n",
       "      <th>4</th>\n",
       "      <td>9397-TZSHA</td>\n",
       "      <td>0.054608</td>\n",
       "    </tr>\n",
       "  </tbody>\n",
       "</table>\n",
       "</div>"
      ],
      "text/plain": [
       "   CustomerID  Churn Probability\n",
       "0  2137-DQMEV           0.091893\n",
       "1  4636-TVXVG           0.026269\n",
       "2  2480-JZOSN           0.556399\n",
       "3  9050-IKDZA           0.815906\n",
       "4  9397-TZSHA           0.054608"
      ]
     },
     "execution_count": 3,
     "metadata": {},
     "output_type": "execute_result"
    }
   ],
   "source": [
    "rfdf = pd.read_csv(\"Random Forest/RF_churn_risk.csv\")\n",
    "rfdf.head()"
   ]
  },
  {
   "cell_type": "code",
   "execution_count": 4,
   "metadata": {},
   "outputs": [
    {
     "data": {
      "text/html": [
       "<div>\n",
       "<style scoped>\n",
       "    .dataframe tbody tr th:only-of-type {\n",
       "        vertical-align: middle;\n",
       "    }\n",
       "\n",
       "    .dataframe tbody tr th {\n",
       "        vertical-align: top;\n",
       "    }\n",
       "\n",
       "    .dataframe thead th {\n",
       "        text-align: right;\n",
       "    }\n",
       "</style>\n",
       "<table border=\"1\" class=\"dataframe\">\n",
       "  <thead>\n",
       "    <tr style=\"text-align: right;\">\n",
       "      <th></th>\n",
       "      <th>CustomerID</th>\n",
       "      <th>Churn Probability</th>\n",
       "      <th>prob_churn</th>\n",
       "    </tr>\n",
       "  </thead>\n",
       "  <tbody>\n",
       "    <tr>\n",
       "      <th>0</th>\n",
       "      <td>2137-DQMEV</td>\n",
       "      <td>0.091893</td>\n",
       "      <td>0.057343</td>\n",
       "    </tr>\n",
       "    <tr>\n",
       "      <th>1</th>\n",
       "      <td>4636-TVXVG</td>\n",
       "      <td>0.026269</td>\n",
       "      <td>0.038912</td>\n",
       "    </tr>\n",
       "    <tr>\n",
       "      <th>2</th>\n",
       "      <td>2480-JZOSN</td>\n",
       "      <td>0.556399</td>\n",
       "      <td>0.396576</td>\n",
       "    </tr>\n",
       "    <tr>\n",
       "      <th>3</th>\n",
       "      <td>9050-IKDZA</td>\n",
       "      <td>0.815906</td>\n",
       "      <td>0.771874</td>\n",
       "    </tr>\n",
       "    <tr>\n",
       "      <th>4</th>\n",
       "      <td>9397-TZSHA</td>\n",
       "      <td>0.054608</td>\n",
       "      <td>0.037140</td>\n",
       "    </tr>\n",
       "  </tbody>\n",
       "</table>\n",
       "</div>"
      ],
      "text/plain": [
       "   CustomerID  Churn Probability  prob_churn\n",
       "0  2137-DQMEV           0.091893    0.057343\n",
       "1  4636-TVXVG           0.026269    0.038912\n",
       "2  2480-JZOSN           0.556399    0.396576\n",
       "3  9050-IKDZA           0.815906    0.771874\n",
       "4  9397-TZSHA           0.054608    0.037140"
      ]
     },
     "execution_count": 4,
     "metadata": {},
     "output_type": "execute_result"
    }
   ],
   "source": [
    "df = rfdf.merge(lrdf, on=\"CustomerID\")\n",
    "df.head()"
   ]
  },
  {
   "cell_type": "code",
   "execution_count": 5,
   "metadata": {},
   "outputs": [],
   "source": [
    "df.rename(columns={\"Churn Probability\":\"RF Churn Risk\", \"prob_churn\":\"Tai LR Churn Risk\"}, inplace=True)"
   ]
  },
  {
   "cell_type": "code",
   "execution_count": 6,
   "metadata": {},
   "outputs": [],
   "source": [
    "sylrdf = pd.read_csv(\"SumYe_Logistic_Regression/churn_risk.csv\")\n",
    "sylrdf.head()\n",
    "sylrdf.rename(columns={\"Churn Probability\":\"SumYe LR Churn Risk\"}, inplace=True)"
   ]
  },
  {
   "cell_type": "code",
   "execution_count": 7,
   "metadata": {},
   "outputs": [],
   "source": [
    "df = df.merge(sylrdf, on=\"CustomerID\")"
   ]
  },
  {
   "cell_type": "code",
   "execution_count": 8,
   "metadata": {},
   "outputs": [],
   "source": [
    "df[\"min\"] = df.loc[:,\"RF Churn Risk\":\"SumYe LR Churn Risk\"].min(axis=1)"
   ]
  },
  {
   "cell_type": "code",
   "execution_count": 9,
   "metadata": {},
   "outputs": [],
   "source": [
    "df[\"max\"] = df.loc[:,\"RF Churn Risk\":\"SumYe LR Churn Risk\"].max(axis=1)"
   ]
  },
  {
   "cell_type": "code",
   "execution_count": 10,
   "metadata": {},
   "outputs": [],
   "source": [
    "df[\"gap\"] = df[\"max\"] - df[\"min\"]"
   ]
  },
  {
   "cell_type": "code",
   "execution_count": 11,
   "metadata": {},
   "outputs": [
    {
     "data": {
      "text/html": [
       "<div>\n",
       "<style scoped>\n",
       "    .dataframe tbody tr th:only-of-type {\n",
       "        vertical-align: middle;\n",
       "    }\n",
       "\n",
       "    .dataframe tbody tr th {\n",
       "        vertical-align: top;\n",
       "    }\n",
       "\n",
       "    .dataframe thead th {\n",
       "        text-align: right;\n",
       "    }\n",
       "</style>\n",
       "<table border=\"1\" class=\"dataframe\">\n",
       "  <thead>\n",
       "    <tr style=\"text-align: right;\">\n",
       "      <th></th>\n",
       "      <th>CustomerID</th>\n",
       "      <th>RF Churn Risk</th>\n",
       "      <th>Tai LR Churn Risk</th>\n",
       "      <th>SumYe LR Churn Risk</th>\n",
       "      <th>min</th>\n",
       "      <th>max</th>\n",
       "      <th>gap</th>\n",
       "    </tr>\n",
       "  </thead>\n",
       "  <tbody>\n",
       "    <tr>\n",
       "      <th>2723</th>\n",
       "      <td>8756-RDDLT</td>\n",
       "      <td>0.346735</td>\n",
       "      <td>0.662176</td>\n",
       "      <td>0.196174</td>\n",
       "      <td>0.196174</td>\n",
       "      <td>0.662176</td>\n",
       "      <td>0.466002</td>\n",
       "    </tr>\n",
       "    <tr>\n",
       "      <th>860</th>\n",
       "      <td>3893-JRNFS</td>\n",
       "      <td>0.374171</td>\n",
       "      <td>0.706500</td>\n",
       "      <td>0.249282</td>\n",
       "      <td>0.249282</td>\n",
       "      <td>0.706500</td>\n",
       "      <td>0.457219</td>\n",
       "    </tr>\n",
       "    <tr>\n",
       "      <th>2293</th>\n",
       "      <td>9577-WJVCQ</td>\n",
       "      <td>0.262238</td>\n",
       "      <td>0.535400</td>\n",
       "      <td>0.122722</td>\n",
       "      <td>0.122722</td>\n",
       "      <td>0.535400</td>\n",
       "      <td>0.412678</td>\n",
       "    </tr>\n",
       "    <tr>\n",
       "      <th>2984</th>\n",
       "      <td>7872-RDDLZ</td>\n",
       "      <td>0.351086</td>\n",
       "      <td>0.654877</td>\n",
       "      <td>0.243492</td>\n",
       "      <td>0.243492</td>\n",
       "      <td>0.654877</td>\n",
       "      <td>0.411385</td>\n",
       "    </tr>\n",
       "    <tr>\n",
       "      <th>5083</th>\n",
       "      <td>8548-AWOFC</td>\n",
       "      <td>0.305624</td>\n",
       "      <td>0.695821</td>\n",
       "      <td>0.292624</td>\n",
       "      <td>0.292624</td>\n",
       "      <td>0.695821</td>\n",
       "      <td>0.403197</td>\n",
       "    </tr>\n",
       "    <tr>\n",
       "      <th>...</th>\n",
       "      <td>...</td>\n",
       "      <td>...</td>\n",
       "      <td>...</td>\n",
       "      <td>...</td>\n",
       "      <td>...</td>\n",
       "      <td>...</td>\n",
       "      <td>...</td>\n",
       "    </tr>\n",
       "    <tr>\n",
       "      <th>1289</th>\n",
       "      <td>2931-XIQBR</td>\n",
       "      <td>0.154095</td>\n",
       "      <td>0.153627</td>\n",
       "      <td>0.149232</td>\n",
       "      <td>0.149232</td>\n",
       "      <td>0.154095</td>\n",
       "      <td>0.004863</td>\n",
       "    </tr>\n",
       "    <tr>\n",
       "      <th>1791</th>\n",
       "      <td>1264-FUHCX</td>\n",
       "      <td>0.246397</td>\n",
       "      <td>0.244355</td>\n",
       "      <td>0.242193</td>\n",
       "      <td>0.242193</td>\n",
       "      <td>0.246397</td>\n",
       "      <td>0.004204</td>\n",
       "    </tr>\n",
       "    <tr>\n",
       "      <th>4413</th>\n",
       "      <td>4137-BTIKL</td>\n",
       "      <td>0.736585</td>\n",
       "      <td>0.736623</td>\n",
       "      <td>0.733111</td>\n",
       "      <td>0.733111</td>\n",
       "      <td>0.736623</td>\n",
       "      <td>0.003513</td>\n",
       "    </tr>\n",
       "    <tr>\n",
       "      <th>209</th>\n",
       "      <td>1776-SPBWV</td>\n",
       "      <td>0.042019</td>\n",
       "      <td>0.038912</td>\n",
       "      <td>0.042307</td>\n",
       "      <td>0.038912</td>\n",
       "      <td>0.042307</td>\n",
       "      <td>0.003395</td>\n",
       "    </tr>\n",
       "    <tr>\n",
       "      <th>1620</th>\n",
       "      <td>2650-GYRYL</td>\n",
       "      <td>0.040276</td>\n",
       "      <td>0.038912</td>\n",
       "      <td>0.041378</td>\n",
       "      <td>0.038912</td>\n",
       "      <td>0.041378</td>\n",
       "      <td>0.002466</td>\n",
       "    </tr>\n",
       "  </tbody>\n",
       "</table>\n",
       "<p>5174 rows × 7 columns</p>\n",
       "</div>"
      ],
      "text/plain": [
       "      CustomerID  RF Churn Risk  Tai LR Churn Risk  SumYe LR Churn Risk  \\\n",
       "2723  8756-RDDLT       0.346735           0.662176             0.196174   \n",
       "860   3893-JRNFS       0.374171           0.706500             0.249282   \n",
       "2293  9577-WJVCQ       0.262238           0.535400             0.122722   \n",
       "2984  7872-RDDLZ       0.351086           0.654877             0.243492   \n",
       "5083  8548-AWOFC       0.305624           0.695821             0.292624   \n",
       "...          ...            ...                ...                  ...   \n",
       "1289  2931-XIQBR       0.154095           0.153627             0.149232   \n",
       "1791  1264-FUHCX       0.246397           0.244355             0.242193   \n",
       "4413  4137-BTIKL       0.736585           0.736623             0.733111   \n",
       "209   1776-SPBWV       0.042019           0.038912             0.042307   \n",
       "1620  2650-GYRYL       0.040276           0.038912             0.041378   \n",
       "\n",
       "           min       max       gap  \n",
       "2723  0.196174  0.662176  0.466002  \n",
       "860   0.249282  0.706500  0.457219  \n",
       "2293  0.122722  0.535400  0.412678  \n",
       "2984  0.243492  0.654877  0.411385  \n",
       "5083  0.292624  0.695821  0.403197  \n",
       "...        ...       ...       ...  \n",
       "1289  0.149232  0.154095  0.004863  \n",
       "1791  0.242193  0.246397  0.004204  \n",
       "4413  0.733111  0.736623  0.003513  \n",
       "209   0.038912  0.042307  0.003395  \n",
       "1620  0.038912  0.041378  0.002466  \n",
       "\n",
       "[5174 rows x 7 columns]"
      ]
     },
     "execution_count": 11,
     "metadata": {},
     "output_type": "execute_result"
    }
   ],
   "source": [
    "df.sort_values(by=\"gap\", ascending=False)"
   ]
  },
  {
   "cell_type": "code",
   "execution_count": 12,
   "metadata": {},
   "outputs": [
    {
     "data": {
      "text/plain": [
       "0.10097740122916136"
      ]
     },
     "execution_count": 12,
     "metadata": {},
     "output_type": "execute_result"
    }
   ],
   "source": [
    "df.gap.mean()"
   ]
  },
  {
   "cell_type": "code",
   "execution_count": 13,
   "metadata": {},
   "outputs": [],
   "source": [
    "df[\"combined\"] = (0.7771 * df[\"RF Churn Risk\"] + 0.8214 * df[\"SumYe LR Churn Risk\"] + 0.8112 * df[\"Tai LR Churn Risk\"]) / 2.4097"
   ]
  },
  {
   "cell_type": "code",
   "execution_count": 14,
   "metadata": {},
   "outputs": [],
   "source": [
    "df = df.sort_values(\"combined\", ascending=False)"
   ]
  },
  {
   "cell_type": "code",
   "execution_count": 15,
   "metadata": {},
   "outputs": [],
   "source": [
    "combined_top_500 = list(df.iloc[:500][\"CustomerID\"])\n",
    "sumye_top_500 = []"
   ]
  },
  {
   "cell_type": "code",
   "execution_count": 16,
   "metadata": {},
   "outputs": [],
   "source": [
    "with open(\"SumYe_Logistic_Regression/most_likely_churners.txt\", \"r\") as file:\n",
    "    for id in file:\n",
    "        id = id.strip()\n",
    "        sumye_top_500.append(id)"
   ]
  },
  {
   "cell_type": "code",
   "execution_count": 17,
   "metadata": {},
   "outputs": [],
   "source": [
    "new_ids = [id for id in combined_top_500 if id not in sumye_top_500]"
   ]
  },
  {
   "cell_type": "code",
   "execution_count": 20,
   "metadata": {},
   "outputs": [],
   "source": [
    "with open(\"combined_top_500.txt\", \"w\") as file:\n",
    "    for id in combined_top_500:\n",
    "        file.write(f\"{id}\\n\")"
   ]
  }
 ],
 "metadata": {
  "kernelspec": {
   "display_name": "base",
   "language": "python",
   "name": "python3"
  },
  "language_info": {
   "codemirror_mode": {
    "name": "ipython",
    "version": 3
   },
   "file_extension": ".py",
   "mimetype": "text/x-python",
   "name": "python",
   "nbconvert_exporter": "python",
   "pygments_lexer": "ipython3",
   "version": "3.11.7"
  }
 },
 "nbformat": 4,
 "nbformat_minor": 2
}
